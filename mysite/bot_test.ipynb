{
 "cells": [
  {
   "cell_type": "code",
   "execution_count": 2,
   "metadata": {},
   "outputs": [
    {
     "data": {
      "text/plain": [
       "<queue.Queue at 0x12cf9a57a60>"
      ]
     },
     "execution_count": 2,
     "metadata": {},
     "output_type": "execute_result"
    }
   ],
   "source": [
    "# starting the bot and giving it a list of commands\n",
    "\n",
    "from telegram.ext.updater import Updater\n",
    "from telegram.update import Update\n",
    "from telegram.ext.callbackcontext import CallbackContext\n",
    "from telegram.ext.commandhandler import CommandHandler\n",
    "from telegram.ext.messagehandler import MessageHandler\n",
    "from telegram.ext.filters import Filters\n",
    "\n",
    "updater = Updater(\"5141414075:AAEWF3kGcK9e1oV6YpxOD3ziDTv20FBmQls\",\n",
    "\t\t\t\tuse_context=True)\n",
    "\n",
    "\n",
    "def start(update: Update, context: CallbackContext):\n",
    "\tupdate.message.reply_text(\n",
    "\t\t\"Hello sir, Welcome to the Bot.Please write\\\n",
    "\t\t/help to see the commands available.\")\n",
    "\n",
    "def help(update: Update, context: CallbackContext):\n",
    "\tupdate.message.reply_text(\"\"\"Available Commands :-\n",
    "\t/youtube - To get the youtube URL\n",
    "\t/linkedin - To get the LinkedIn profile URL\n",
    "\t/gmail - To get gmail URL\n",
    "\t/geeks - To get the GeeksforGeeks URL\"\"\")\n",
    "\n",
    "\n",
    "def gmail_url(update: Update, context: CallbackContext):\n",
    "\tupdate.message.reply_text(\n",
    "\t\t\"Your gmail link here (I am not\\\n",
    "\t\tgiving mine one for security reasons)\")\n",
    "\n",
    "\n",
    "def youtube_url(update: Update, context: CallbackContext):\n",
    "\tupdate.message.reply_text(\"Youtube Link =>\\\n",
    "\thttps://www.youtube.com/\")\n",
    "\n",
    "\n",
    "def linkedIn_url(update: Update, context: CallbackContext):\n",
    "\tupdate.message.reply_text(\n",
    "\t\t\"LinkedIn URL => \\\n",
    "\t\thttps://www.linkedin.com/in/dwaipayan-bandyopadhyay-007a/\")\n",
    "\n",
    "\n",
    "def geeks_url(update: Update, context: CallbackContext):\n",
    "\tupdate.message.reply_text(\n",
    "\t\t\"GeeksforGeeks URL => https://www.geeksforgeeks.org/\")\n",
    "\n",
    "\n",
    "def unknown(update: Update, context: CallbackContext):\n",
    "\tupdate.message.reply_text(\n",
    "\t\t\"Sorry '%s' is not a valid command\" % update.message.text)\n",
    "\n",
    "\n",
    "def unknown_text(update: Update, context: CallbackContext):\n",
    "\tupdate.message.reply_text(\n",
    "\t\t\"Sorry I can't recognize you , you said '%s'\" % update.message.text)\n",
    "\n",
    "\n",
    "updater.dispatcher.add_handler(CommandHandler('start', start))\n",
    "updater.dispatcher.add_handler(CommandHandler('youtube', youtube_url))\n",
    "updater.dispatcher.add_handler(CommandHandler('help', help))\n",
    "updater.dispatcher.add_handler(CommandHandler('linkedin', linkedIn_url))\n",
    "updater.dispatcher.add_handler(CommandHandler('gmail', gmail_url))\n",
    "updater.dispatcher.add_handler(CommandHandler('geeks', geeks_url))\n",
    "updater.dispatcher.add_handler(MessageHandler(Filters.text, unknown))\n",
    "updater.dispatcher.add_handler(MessageHandler(\n",
    "\tFilters.command, unknown)) # Filters out unknown commands\n",
    "\n",
    "# Filters out unknown messages.\n",
    "updater.dispatcher.add_handler(MessageHandler(Filters.text, unknown_text))\n",
    "\n",
    "updater.start_polling()\n"
   ]
  },
  {
   "cell_type": "code",
   "execution_count": 5,
   "metadata": {},
   "outputs": [
    {
     "data": {
      "text/plain": [
       "<coroutine object main at 0x00000226BE10B610>"
      ]
     },
     "execution_count": 5,
     "metadata": {},
     "output_type": "execute_result"
    }
   ],
   "source": [
    "# sending messages with the bot\n",
    "\n",
    "import telebot\n",
    "from telethon.sync import TelegramClient\n",
    "from telethon.tl.types import InputPeerUser, InputPeerChannel\n",
    "from telethon import TelegramClient, sync, events\n",
    "\n",
    "api_id = '10892145'\n",
    "api_hash = '088a730c3b06b6fc542c1312b626f756'\n",
    "token = '5141414075:AAEWF3kGcK9e1oV6YpxOD3ziDTv20FBmQls'\n",
    "message = \"Working...\"\n",
    "\n",
    "phone = \"+237653540703\"\n",
    "\n",
    "async def main():\n",
    "    client = TelegramClient('new_session_bi', api_id, api_hash)\n",
    "    print(\"Creating client\")\n",
    "    await client.connect()\n",
    "\n",
    "    if not client.is_user_authorized():\n",
    "        client.send_code_request(phone)\n",
    "        print(\"Not authorized, sending code request\")\n",
    "        # signing in the client\n",
    "        client.sign_in(phone, input('Enter the code: '))\n",
    "\n",
    "    try:\n",
    "        receiver = InputPeerUser(\"1738045539\", 0)\n",
    "        print(\"Creating a receiver, and awaiting message to be sent\")\n",
    "        await client.send_message(receiver, message, parse_mode='html')\n",
    "    except Exception as e:\n",
    "        print(e)\n",
    "    \n",
    "    print(\"disconnecting client\")\n",
    "    client.disconnect()\n",
    "\n",
    "main()\n",
    "  "
   ]
  },
  {
   "cell_type": "code",
   "execution_count": null,
   "metadata": {},
   "outputs": [],
   "source": []
  }
 ],
 "metadata": {
  "interpreter": {
   "hash": "6a741106374af66907e454d5eb9f7220e458921b2d22e15106cc427032c4925a"
  },
  "kernelspec": {
   "display_name": "Python 3.10.1 64-bit",
   "language": "python",
   "name": "python3"
  },
  "language_info": {
   "codemirror_mode": {
    "name": "ipython",
    "version": 3
   },
   "file_extension": ".py",
   "mimetype": "text/x-python",
   "name": "python",
   "nbconvert_exporter": "python",
   "pygments_lexer": "ipython3",
   "version": "3.10.1"
  },
  "orig_nbformat": 4
 },
 "nbformat": 4,
 "nbformat_minor": 2
}
