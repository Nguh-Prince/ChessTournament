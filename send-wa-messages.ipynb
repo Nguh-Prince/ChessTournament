{
 "cells": [
  {
   "cell_type": "code",
   "execution_count": 41,
   "metadata": {},
   "outputs": [],
   "source": [
    "import pandas as pd\n",
    "import numpy as np\n",
    "import seaborn as sns\n",
    "import matplotlib.pyplot as plt"
   ]
  },
  {
   "cell_type": "code",
   "execution_count": 42,
   "metadata": {},
   "outputs": [],
   "source": [
    "import webbrowser\n",
    "from selenium import webdriver\n",
    "import urllib\n",
    "from selenium.webdriver.common.by import By\n",
    "from selenium.webdriver.common.keys import Keys\n",
    "from selenium.webdriver.support import expected_conditions as EC\n",
    "from selenium.webdriver.support.wait import WebDriverWait\n",
    "from selenium.webdriver.chrome.options import Options\n",
    "import time"
   ]
  },
  {
   "cell_type": "code",
   "execution_count": 43,
   "metadata": {},
   "outputs": [],
   "source": [
    "def element_presence(by, xpath, time):\n",
    "    try:\n",
    "        element = driver.find_element_by_xpath(xpath)\n",
    "        if not element.is_displayed():\n",
    "            print(\"Element is not displayed\")\n",
    "            element_present = EC.presence_of_element_located( (By.XPATH, xpath) )\n",
    "            print(element_present)\n",
    "            WebDriverWait( driver, time ).until(element_present)\n",
    "    except Exception as e:\n",
    "        print(f\"Exception occured: {e.__str__()}\")\n",
    "        element_present = EC.presence_of_element_located( (By.XPATH, xpath) )\n",
    "        print(element_present)\n",
    "        WebDriverWait( driver, time ).until(element_present)\n",
    "\n",
    "def send_message(url):\n",
    "    print(f\"Sending message to url: {url}\")\n",
    "    driver.get(url)\n",
    "    time.sleep(2)\n",
    "    element_presence(By.XPATH, '//*[@id=\"main\"]/footer/div[1]/div/span[2]/div/div[2]/div[1]', 100)\n",
    "    msg_box = driver.find_element(By.XPATH, '//*[@id=\"main\"]/footer/div[1]/div/span[2]/div/div[2]/div[1]')\n",
    "    send_btn = driver.find_element_by_xpath( '//*[@id=\"main\"]/footer/div[1]/div/span[2]/div/div[2]/div[2]/button/span' )\n",
    "    send_btn.click()\n",
    "    print(msg_box)\n",
    "    msg_box.send_keys('\\n')\n",
    "    print(r\"Sent \\n key to msgbox\")\n",
    "    time.sleep(1)\n",
    "\n",
    "def prepare_msg(list, name_key='Name', phone_key=\"Phone number\"):\n",
    "    msgs = [\n",
    "        \"\"\"Bonsoir {}, je suis Nguh Prince l'organisateur du tournoi d'échecs AICS. Mes associés et moi avons joué à un jeu dans votre classe et nous serions ravis de vous voir participer au tournoi.\"\"\",\n",
    "        \"\"\"Heureusement, il nous reste environ 4 places et le tarif n'est que de 300 frs (350 si vous payez via MoMo ou OM).\"\"\",\n",
    "        \"\"\"Je suis en SE3 en cas de soucis et nos numéros sont : 653540703 (MTN, Francisca Dione) et 695919585 (OM, Bayeck Joseph)\"\"\"\n",
    "    ]\n",
    "    base_url = 'https://web.whatsapp.com/send?phone={}&text={}'\n",
    "    for index, dictionary in enumerate(list):\n",
    "        print(f\"Sending message to person #{index}\")\n",
    "        print(dictionary)\n",
    "        phone_no = dictionary[phone_key]\n",
    "        names = dictionary[name_key]\n",
    "        try:\n",
    "            Name = names.split(' ')[1]\n",
    "        except IndexError:\n",
    "            Name = names\n",
    "\n",
    "        for (index, base_msg) in enumerate(msgs):\n",
    "            msg = urllib.parse.quote(base_msg.format(Name))\n",
    "            url_msg = base_url.format(\"+237\"+phone_no, msg)\n",
    "            send_message(url_msg)\n",
    "            print(f\"Sent message #{index}\")\n"
   ]
  },
  {
   "cell_type": "code",
   "execution_count": 44,
   "metadata": {},
   "outputs": [
    {
     "name": "stderr",
     "output_type": "stream",
     "text": [
      "C:\\Users\\Prince\\AppData\\Local\\Temp/ipykernel_11984/2440530746.py:6: DeprecationWarning: executable_path has been deprecated, please pass in a Service object\n",
      "  driver = webdriver.Chrome(PATH, options=chrome_options)\n"
     ]
    },
    {
     "name": "stdout",
     "output_type": "stream",
     "text": [
      "Sending message to person #0\n",
      "{'Name': 'Nguh Prince', 'Phone number': '653540703'}\n",
      "Sending message to url: https://web.whatsapp.com/send?phone=+237653540703&text=Bonsoir%20Prince%2C%20je%20suis%20Nguh%20Prince%20l%27organisateur%20du%20tournoi%20d%27%C3%A9checs%20AICS.%20Mes%20associ%C3%A9s%20et%20moi%20avons%20jou%C3%A9%20%C3%A0%20un%20jeu%20dans%20votre%20classe%20et%20nous%20serions%20ravis%20de%20vous%20voir%20participer%20au%20tournoi.\n"
     ]
    },
    {
     "name": "stderr",
     "output_type": "stream",
     "text": [
      "C:\\Users\\Prince\\AppData\\Local\\Temp/ipykernel_11984/2156292403.py:3: DeprecationWarning: find_element_by_xpath is deprecated. Please use find_element(by=By.XPATH, value=xpath) instead\n",
      "  element = driver.find_element_by_xpath(xpath)\n"
     ]
    },
    {
     "name": "stdout",
     "output_type": "stream",
     "text": [
      "Exception occured: Message: no such element: Unable to locate element: {\"method\":\"xpath\",\"selector\":\"//*[@id=\"main\"]/footer/div[1]/div/span[2]/div/div[2]/div[1]\"}\n",
      "  (Session info: chrome=99.0.4844.84)\n",
      "Stacktrace:\n",
      "Backtrace:\n",
      "\tOrdinal0 [0x00649943+2595139]\n",
      "\tOrdinal0 [0x005DC9F1+2148849]\n",
      "\tOrdinal0 [0x004D4528+1066280]\n",
      "\tOrdinal0 [0x00500FD4+1249236]\n",
      "\tOrdinal0 [0x005011CB+1249739]\n",
      "\tOrdinal0 [0x0052D812+1431570]\n",
      "\tOrdinal0 [0x0051BA34+1358388]\n",
      "\tOrdinal0 [0x0052BAF2+1424114]\n",
      "\tOrdinal0 [0x0051B806+1357830]\n",
      "\tOrdinal0 [0x004F6086+1204358]\n",
      "\tOrdinal0 [0x004F6F96+1208214]\n",
      "\tGetHandleVerifier [0x007EB232+1658114]\n",
      "\tGetHandleVerifier [0x008A312C+2411516]\n",
      "\tGetHandleVerifier [0x006DF261+560433]\n",
      "\tGetHandleVerifier [0x006DE366+556598]\n",
      "\tOrdinal0 [0x005E286B+2173035]\n",
      "\tOrdinal0 [0x005E75F8+2192888]\n",
      "\tOrdinal0 [0x005E76E5+2193125]\n",
      "\tOrdinal0 [0x005F11FC+2232828]\n",
      "\tBaseThreadInitThunk [0x76AF6739+25]\n",
      "\tRtlGetFullPathName_UEx [0x77C38ACF+1215]\n",
      "\tRtlGetFullPathName_UEx [0x77C38A9D+1165]\n",
      "\n",
      "<function presence_of_element_located.<locals>._predicate at 0x000001D2FB36A950>\n"
     ]
    },
    {
     "name": "stderr",
     "output_type": "stream",
     "text": [
      "C:\\Users\\Prince\\AppData\\Local\\Temp/ipykernel_11984/2156292403.py:21: DeprecationWarning: find_element_by_xpath is deprecated. Please use find_element(by=By.XPATH, value=xpath) instead\n",
      "  send_btn = driver.find_element_by_xpath( '//*[@id=\"main\"]/footer/div[1]/div/span[2]/div/div[2]/div[2]/button/span' )\n"
     ]
    },
    {
     "name": "stdout",
     "output_type": "stream",
     "text": [
      "<selenium.webdriver.remote.webelement.WebElement (session=\"8af68dfc6504d93a7e1a9b957a608a3d\", element=\"eb04cd62-ab6c-4b62-81d7-ef5cb7632c75\")>\n",
      "Sent \\n key to msgbox\n",
      "Sent message #0\n",
      "Sending message to url: https://web.whatsapp.com/send?phone=+237653540703&text=Heureusement%2C%20il%20nous%20reste%20environ%204%20places%20et%20le%20tarif%20n%27est%20que%20de%20300%20frs%20%28350%20si%20vous%20payez%20via%20MoMo%20ou%20OM%29.\n",
      "Exception occured: Alert Text: {Alert text : \n",
      "Message: unexpected alert open: {Alert text : }\n",
      "  (Session info: chrome=99.0.4844.84)\n",
      "Stacktrace:\n",
      "Backtrace:\n",
      "\tOrdinal0 [0x00649943+2595139]\n",
      "\tOrdinal0 [0x005DC9F1+2148849]\n",
      "\tOrdinal0 [0x004D4528+1066280]\n",
      "\tOrdinal0 [0x0052B962+1423714]\n",
      "\tOrdinal0 [0x0051B806+1357830]\n",
      "\tOrdinal0 [0x004F6086+1204358]\n",
      "\tOrdinal0 [0x004F6F96+1208214]\n",
      "\tGetHandleVerifier [0x007EB232+1658114]\n",
      "\tGetHandleVerifier [0x008A312C+2411516]\n",
      "\tGetHandleVerifier [0x006DF261+560433]\n",
      "\tGetHandleVerifier [0x006DE366+556598]\n",
      "\tOrdinal0 [0x005E286B+2173035]\n",
      "\tOrdinal0 [0x005E75F8+2192888]\n",
      "\tOrdinal0 [0x005E76E5+2193125]\n",
      "\tOrdinal0 [0x005F11FC+2232828]\n",
      "\tBaseThreadInitThunk [0x76AF6739+25]\n",
      "\tRtlGetFullPathName_UEx [0x77C38ACF+1215]\n",
      "\tRtlGetFullPathName_UEx [0x77C38A9D+1165]\n",
      "\n",
      "<function presence_of_element_located.<locals>._predicate at 0x000001D2FB36A9E0>\n",
      "<selenium.webdriver.remote.webelement.WebElement (session=\"8af68dfc6504d93a7e1a9b957a608a3d\", element=\"eb04cd62-ab6c-4b62-81d7-ef5cb7632c75\")>\n",
      "Sent \\n key to msgbox\n",
      "Sent message #1\n",
      "Sending message to url: https://web.whatsapp.com/send?phone=+237653540703&text=Je%20suis%20en%20SE3%20en%20cas%20de%20soucis%20et%20nos%20num%C3%A9ros%20sont%20%3A%20653540703%20%28MTN%2C%20Francisca%20Dione%29%20et%20695919585%20%28OM%2C%20Bayeck%20Joseph%29\n",
      "Exception occured: Alert Text: {Alert text : \n",
      "Message: unexpected alert open: {Alert text : }\n",
      "  (Session info: chrome=99.0.4844.84)\n",
      "Stacktrace:\n",
      "Backtrace:\n",
      "\tOrdinal0 [0x00649943+2595139]\n",
      "\tOrdinal0 [0x005DC9F1+2148849]\n",
      "\tOrdinal0 [0x004D4528+1066280]\n",
      "\tOrdinal0 [0x0052B962+1423714]\n",
      "\tOrdinal0 [0x0051B806+1357830]\n",
      "\tOrdinal0 [0x004F6086+1204358]\n",
      "\tOrdinal0 [0x004F6F96+1208214]\n",
      "\tGetHandleVerifier [0x007EB232+1658114]\n",
      "\tGetHandleVerifier [0x008A312C+2411516]\n",
      "\tGetHandleVerifier [0x006DF261+560433]\n",
      "\tGetHandleVerifier [0x006DE366+556598]\n",
      "\tOrdinal0 [0x005E286B+2173035]\n",
      "\tOrdinal0 [0x005E75F8+2192888]\n",
      "\tOrdinal0 [0x005E76E5+2193125]\n",
      "\tOrdinal0 [0x005F11FC+2232828]\n",
      "\tBaseThreadInitThunk [0x76AF6739+25]\n",
      "\tRtlGetFullPathName_UEx [0x77C38ACF+1215]\n",
      "\tRtlGetFullPathName_UEx [0x77C38A9D+1165]\n",
      "\n",
      "<function presence_of_element_located.<locals>._predicate at 0x000001D2FB369990>\n"
     ]
    },
    {
     "ename": "ElementClickInterceptedException",
     "evalue": "Message: element click intercepted: Element <span data-testid=\"ptt\" data-icon=\"ptt\" class=\"\">...</span> is not clickable at point (998, 536). Other element would receive the click: <div class=\"_3ev9-\">...</div>\n  (Session info: chrome=99.0.4844.84)\nStacktrace:\nBacktrace:\n\tOrdinal0 [0x00649943+2595139]\n\tOrdinal0 [0x005DC9F1+2148849]\n\tOrdinal0 [0x004D4528+1066280]\n\tOrdinal0 [0x00507621+1275425]\n\tOrdinal0 [0x00505657+1267287]\n\tOrdinal0 [0x0050333B+1258299]\n\tOrdinal0 [0x0050207D+1253501]\n\tOrdinal0 [0x004F7AB3+1211059]\n\tOrdinal0 [0x0051B9EC+1358316]\n\tOrdinal0 [0x004F7474+1209460]\n\tOrdinal0 [0x0051BC04+1358852]\n\tOrdinal0 [0x0052BAF2+1424114]\n\tOrdinal0 [0x0051B806+1357830]\n\tOrdinal0 [0x004F6086+1204358]\n\tOrdinal0 [0x004F6F96+1208214]\n\tGetHandleVerifier [0x007EB232+1658114]\n\tGetHandleVerifier [0x008A312C+2411516]\n\tGetHandleVerifier [0x006DF261+560433]\n\tGetHandleVerifier [0x006DE366+556598]\n\tOrdinal0 [0x005E286B+2173035]\n\tOrdinal0 [0x005E75F8+2192888]\n\tOrdinal0 [0x005E76E5+2193125]\n\tOrdinal0 [0x005F11FC+2232828]\n\tBaseThreadInitThunk [0x76AF6739+25]\n\tRtlGetFullPathName_UEx [0x77C38ACF+1215]\n\tRtlGetFullPathName_UEx [0x77C38A9D+1165]\n",
     "output_type": "error",
     "traceback": [
      "\u001b[1;31m---------------------------------------------------------------------------\u001b[0m",
      "\u001b[1;31mElementClickInterceptedException\u001b[0m          Traceback (most recent call last)",
      "\u001b[1;32m~\\AppData\\Local\\Temp/ipykernel_11984/2440530746.py\u001b[0m in \u001b[0;36m<module>\u001b[1;34m\u001b[0m\n\u001b[0;32m      5\u001b[0m \u001b[1;33m\u001b[0m\u001b[0m\n\u001b[0;32m      6\u001b[0m \u001b[0mdriver\u001b[0m \u001b[1;33m=\u001b[0m \u001b[0mwebdriver\u001b[0m\u001b[1;33m.\u001b[0m\u001b[0mChrome\u001b[0m\u001b[1;33m(\u001b[0m\u001b[0mPATH\u001b[0m\u001b[1;33m,\u001b[0m \u001b[0moptions\u001b[0m\u001b[1;33m=\u001b[0m\u001b[0mchrome_options\u001b[0m\u001b[1;33m)\u001b[0m\u001b[1;33m\u001b[0m\u001b[1;33m\u001b[0m\u001b[0m\n\u001b[1;32m----> 7\u001b[1;33m \u001b[0mprepare_msg\u001b[0m\u001b[1;33m(\u001b[0m\u001b[1;33m[\u001b[0m\u001b[1;33m{\u001b[0m \u001b[1;34m\"Name\"\u001b[0m\u001b[1;33m:\u001b[0m \u001b[1;34m\"Nguh Prince\"\u001b[0m\u001b[1;33m,\u001b[0m \u001b[1;34m\"Phone number\"\u001b[0m\u001b[1;33m:\u001b[0m \u001b[1;34m\"653540703\"\u001b[0m \u001b[1;33m}\u001b[0m\u001b[1;33m]\u001b[0m\u001b[1;33m)\u001b[0m\u001b[1;33m\u001b[0m\u001b[1;33m\u001b[0m\u001b[0m\n\u001b[0m",
      "\u001b[1;32m~\\AppData\\Local\\Temp/ipykernel_11984/2156292403.py\u001b[0m in \u001b[0;36mprepare_msg\u001b[1;34m(list, name_key, phone_key)\u001b[0m\n\u001b[0;32m     46\u001b[0m             \u001b[0mmsg\u001b[0m \u001b[1;33m=\u001b[0m \u001b[0murllib\u001b[0m\u001b[1;33m.\u001b[0m\u001b[0mparse\u001b[0m\u001b[1;33m.\u001b[0m\u001b[0mquote\u001b[0m\u001b[1;33m(\u001b[0m\u001b[0mbase_msg\u001b[0m\u001b[1;33m.\u001b[0m\u001b[0mformat\u001b[0m\u001b[1;33m(\u001b[0m\u001b[0mName\u001b[0m\u001b[1;33m)\u001b[0m\u001b[1;33m)\u001b[0m\u001b[1;33m\u001b[0m\u001b[1;33m\u001b[0m\u001b[0m\n\u001b[0;32m     47\u001b[0m             \u001b[0murl_msg\u001b[0m \u001b[1;33m=\u001b[0m \u001b[0mbase_url\u001b[0m\u001b[1;33m.\u001b[0m\u001b[0mformat\u001b[0m\u001b[1;33m(\u001b[0m\u001b[1;34m\"+237\"\u001b[0m\u001b[1;33m+\u001b[0m\u001b[0mphone_no\u001b[0m\u001b[1;33m,\u001b[0m \u001b[0mmsg\u001b[0m\u001b[1;33m)\u001b[0m\u001b[1;33m\u001b[0m\u001b[1;33m\u001b[0m\u001b[0m\n\u001b[1;32m---> 48\u001b[1;33m             \u001b[0msend_message\u001b[0m\u001b[1;33m(\u001b[0m\u001b[0murl_msg\u001b[0m\u001b[1;33m)\u001b[0m\u001b[1;33m\u001b[0m\u001b[1;33m\u001b[0m\u001b[0m\n\u001b[0m\u001b[0;32m     49\u001b[0m             \u001b[0mprint\u001b[0m\u001b[1;33m(\u001b[0m\u001b[1;34mf\"Sent message #{index}\"\u001b[0m\u001b[1;33m)\u001b[0m\u001b[1;33m\u001b[0m\u001b[1;33m\u001b[0m\u001b[0m\n",
      "\u001b[1;32m~\\AppData\\Local\\Temp/ipykernel_11984/2156292403.py\u001b[0m in \u001b[0;36msend_message\u001b[1;34m(url)\u001b[0m\n\u001b[0;32m     20\u001b[0m     \u001b[0mmsg_box\u001b[0m \u001b[1;33m=\u001b[0m \u001b[0mdriver\u001b[0m\u001b[1;33m.\u001b[0m\u001b[0mfind_element\u001b[0m\u001b[1;33m(\u001b[0m\u001b[0mBy\u001b[0m\u001b[1;33m.\u001b[0m\u001b[0mXPATH\u001b[0m\u001b[1;33m,\u001b[0m \u001b[1;34m'//*[@id=\"main\"]/footer/div[1]/div/span[2]/div/div[2]/div[1]'\u001b[0m\u001b[1;33m)\u001b[0m\u001b[1;33m\u001b[0m\u001b[1;33m\u001b[0m\u001b[0m\n\u001b[0;32m     21\u001b[0m     \u001b[0msend_btn\u001b[0m \u001b[1;33m=\u001b[0m \u001b[0mdriver\u001b[0m\u001b[1;33m.\u001b[0m\u001b[0mfind_element_by_xpath\u001b[0m\u001b[1;33m(\u001b[0m \u001b[1;34m'//*[@id=\"main\"]/footer/div[1]/div/span[2]/div/div[2]/div[2]/button/span'\u001b[0m \u001b[1;33m)\u001b[0m\u001b[1;33m\u001b[0m\u001b[1;33m\u001b[0m\u001b[0m\n\u001b[1;32m---> 22\u001b[1;33m     \u001b[0msend_btn\u001b[0m\u001b[1;33m.\u001b[0m\u001b[0mclick\u001b[0m\u001b[1;33m(\u001b[0m\u001b[1;33m)\u001b[0m\u001b[1;33m\u001b[0m\u001b[1;33m\u001b[0m\u001b[0m\n\u001b[0m\u001b[0;32m     23\u001b[0m     \u001b[0mprint\u001b[0m\u001b[1;33m(\u001b[0m\u001b[0mmsg_box\u001b[0m\u001b[1;33m)\u001b[0m\u001b[1;33m\u001b[0m\u001b[1;33m\u001b[0m\u001b[0m\n\u001b[0;32m     24\u001b[0m     \u001b[0mmsg_box\u001b[0m\u001b[1;33m.\u001b[0m\u001b[0msend_keys\u001b[0m\u001b[1;33m(\u001b[0m\u001b[1;34m'\\n'\u001b[0m\u001b[1;33m)\u001b[0m\u001b[1;33m\u001b[0m\u001b[1;33m\u001b[0m\u001b[0m\n",
      "\u001b[1;32mE:\\Python310\\lib\\site-packages\\selenium\\webdriver\\remote\\webelement.py\u001b[0m in \u001b[0;36mclick\u001b[1;34m(self)\u001b[0m\n\u001b[0;32m     79\u001b[0m     \u001b[1;32mdef\u001b[0m \u001b[0mclick\u001b[0m\u001b[1;33m(\u001b[0m\u001b[0mself\u001b[0m\u001b[1;33m)\u001b[0m \u001b[1;33m->\u001b[0m \u001b[1;32mNone\u001b[0m\u001b[1;33m:\u001b[0m\u001b[1;33m\u001b[0m\u001b[1;33m\u001b[0m\u001b[0m\n\u001b[0;32m     80\u001b[0m         \u001b[1;34m\"\"\"Clicks the element.\"\"\"\u001b[0m\u001b[1;33m\u001b[0m\u001b[1;33m\u001b[0m\u001b[0m\n\u001b[1;32m---> 81\u001b[1;33m         \u001b[0mself\u001b[0m\u001b[1;33m.\u001b[0m\u001b[0m_execute\u001b[0m\u001b[1;33m(\u001b[0m\u001b[0mCommand\u001b[0m\u001b[1;33m.\u001b[0m\u001b[0mCLICK_ELEMENT\u001b[0m\u001b[1;33m)\u001b[0m\u001b[1;33m\u001b[0m\u001b[1;33m\u001b[0m\u001b[0m\n\u001b[0m\u001b[0;32m     82\u001b[0m \u001b[1;33m\u001b[0m\u001b[0m\n\u001b[0;32m     83\u001b[0m     \u001b[1;32mdef\u001b[0m \u001b[0msubmit\u001b[0m\u001b[1;33m(\u001b[0m\u001b[0mself\u001b[0m\u001b[1;33m)\u001b[0m\u001b[1;33m:\u001b[0m\u001b[1;33m\u001b[0m\u001b[1;33m\u001b[0m\u001b[0m\n",
      "\u001b[1;32mE:\\Python310\\lib\\site-packages\\selenium\\webdriver\\remote\\webelement.py\u001b[0m in \u001b[0;36m_execute\u001b[1;34m(self, command, params)\u001b[0m\n\u001b[0;32m    708\u001b[0m             \u001b[0mparams\u001b[0m \u001b[1;33m=\u001b[0m \u001b[1;33m{\u001b[0m\u001b[1;33m}\u001b[0m\u001b[1;33m\u001b[0m\u001b[1;33m\u001b[0m\u001b[0m\n\u001b[0;32m    709\u001b[0m         \u001b[0mparams\u001b[0m\u001b[1;33m[\u001b[0m\u001b[1;34m'id'\u001b[0m\u001b[1;33m]\u001b[0m \u001b[1;33m=\u001b[0m \u001b[0mself\u001b[0m\u001b[1;33m.\u001b[0m\u001b[0m_id\u001b[0m\u001b[1;33m\u001b[0m\u001b[1;33m\u001b[0m\u001b[0m\n\u001b[1;32m--> 710\u001b[1;33m         \u001b[1;32mreturn\u001b[0m \u001b[0mself\u001b[0m\u001b[1;33m.\u001b[0m\u001b[0m_parent\u001b[0m\u001b[1;33m.\u001b[0m\u001b[0mexecute\u001b[0m\u001b[1;33m(\u001b[0m\u001b[0mcommand\u001b[0m\u001b[1;33m,\u001b[0m \u001b[0mparams\u001b[0m\u001b[1;33m)\u001b[0m\u001b[1;33m\u001b[0m\u001b[1;33m\u001b[0m\u001b[0m\n\u001b[0m\u001b[0;32m    711\u001b[0m \u001b[1;33m\u001b[0m\u001b[0m\n\u001b[0;32m    712\u001b[0m     \u001b[1;32mdef\u001b[0m \u001b[0mfind_element\u001b[0m\u001b[1;33m(\u001b[0m\u001b[0mself\u001b[0m\u001b[1;33m,\u001b[0m \u001b[0mby\u001b[0m\u001b[1;33m=\u001b[0m\u001b[0mBy\u001b[0m\u001b[1;33m.\u001b[0m\u001b[0mID\u001b[0m\u001b[1;33m,\u001b[0m \u001b[0mvalue\u001b[0m\u001b[1;33m=\u001b[0m\u001b[1;32mNone\u001b[0m\u001b[1;33m)\u001b[0m\u001b[1;33m:\u001b[0m\u001b[1;33m\u001b[0m\u001b[1;33m\u001b[0m\u001b[0m\n",
      "\u001b[1;32mE:\\Python310\\lib\\site-packages\\selenium\\webdriver\\remote\\webdriver.py\u001b[0m in \u001b[0;36mexecute\u001b[1;34m(self, driver_command, params)\u001b[0m\n\u001b[0;32m    423\u001b[0m         \u001b[0mresponse\u001b[0m \u001b[1;33m=\u001b[0m \u001b[0mself\u001b[0m\u001b[1;33m.\u001b[0m\u001b[0mcommand_executor\u001b[0m\u001b[1;33m.\u001b[0m\u001b[0mexecute\u001b[0m\u001b[1;33m(\u001b[0m\u001b[0mdriver_command\u001b[0m\u001b[1;33m,\u001b[0m \u001b[0mparams\u001b[0m\u001b[1;33m)\u001b[0m\u001b[1;33m\u001b[0m\u001b[1;33m\u001b[0m\u001b[0m\n\u001b[0;32m    424\u001b[0m         \u001b[1;32mif\u001b[0m \u001b[0mresponse\u001b[0m\u001b[1;33m:\u001b[0m\u001b[1;33m\u001b[0m\u001b[1;33m\u001b[0m\u001b[0m\n\u001b[1;32m--> 425\u001b[1;33m             \u001b[0mself\u001b[0m\u001b[1;33m.\u001b[0m\u001b[0merror_handler\u001b[0m\u001b[1;33m.\u001b[0m\u001b[0mcheck_response\u001b[0m\u001b[1;33m(\u001b[0m\u001b[0mresponse\u001b[0m\u001b[1;33m)\u001b[0m\u001b[1;33m\u001b[0m\u001b[1;33m\u001b[0m\u001b[0m\n\u001b[0m\u001b[0;32m    426\u001b[0m             response['value'] = self._unwrap_value(\n\u001b[0;32m    427\u001b[0m                 response.get('value', None))\n",
      "\u001b[1;32mE:\\Python310\\lib\\site-packages\\selenium\\webdriver\\remote\\errorhandler.py\u001b[0m in \u001b[0;36mcheck_response\u001b[1;34m(self, response)\u001b[0m\n\u001b[0;32m    245\u001b[0m                 \u001b[0malert_text\u001b[0m \u001b[1;33m=\u001b[0m \u001b[0mvalue\u001b[0m\u001b[1;33m[\u001b[0m\u001b[1;34m'alert'\u001b[0m\u001b[1;33m]\u001b[0m\u001b[1;33m.\u001b[0m\u001b[0mget\u001b[0m\u001b[1;33m(\u001b[0m\u001b[1;34m'text'\u001b[0m\u001b[1;33m)\u001b[0m\u001b[1;33m\u001b[0m\u001b[1;33m\u001b[0m\u001b[0m\n\u001b[0;32m    246\u001b[0m             \u001b[1;32mraise\u001b[0m \u001b[0mexception_class\u001b[0m\u001b[1;33m(\u001b[0m\u001b[0mmessage\u001b[0m\u001b[1;33m,\u001b[0m \u001b[0mscreen\u001b[0m\u001b[1;33m,\u001b[0m \u001b[0mstacktrace\u001b[0m\u001b[1;33m,\u001b[0m \u001b[0malert_text\u001b[0m\u001b[1;33m)\u001b[0m  \u001b[1;31m# type: ignore[call-arg]  # mypy is not smart enough here\u001b[0m\u001b[1;33m\u001b[0m\u001b[1;33m\u001b[0m\u001b[0m\n\u001b[1;32m--> 247\u001b[1;33m         \u001b[1;32mraise\u001b[0m \u001b[0mexception_class\u001b[0m\u001b[1;33m(\u001b[0m\u001b[0mmessage\u001b[0m\u001b[1;33m,\u001b[0m \u001b[0mscreen\u001b[0m\u001b[1;33m,\u001b[0m \u001b[0mstacktrace\u001b[0m\u001b[1;33m)\u001b[0m\u001b[1;33m\u001b[0m\u001b[1;33m\u001b[0m\u001b[0m\n\u001b[0m\u001b[0;32m    248\u001b[0m \u001b[1;33m\u001b[0m\u001b[0m\n\u001b[0;32m    249\u001b[0m     \u001b[1;32mdef\u001b[0m \u001b[0m_value_or_default\u001b[0m\u001b[1;33m(\u001b[0m\u001b[0mself\u001b[0m\u001b[1;33m,\u001b[0m \u001b[0mobj\u001b[0m\u001b[1;33m:\u001b[0m \u001b[0mMapping\u001b[0m\u001b[1;33m[\u001b[0m\u001b[0m_KT\u001b[0m\u001b[1;33m,\u001b[0m \u001b[0m_VT\u001b[0m\u001b[1;33m]\u001b[0m\u001b[1;33m,\u001b[0m \u001b[0mkey\u001b[0m\u001b[1;33m:\u001b[0m \u001b[0m_KT\u001b[0m\u001b[1;33m,\u001b[0m \u001b[0mdefault\u001b[0m\u001b[1;33m:\u001b[0m \u001b[0m_VT\u001b[0m\u001b[1;33m)\u001b[0m \u001b[1;33m->\u001b[0m \u001b[0m_VT\u001b[0m\u001b[1;33m:\u001b[0m\u001b[1;33m\u001b[0m\u001b[1;33m\u001b[0m\u001b[0m\n",
      "\u001b[1;31mElementClickInterceptedException\u001b[0m: Message: element click intercepted: Element <span data-testid=\"ptt\" data-icon=\"ptt\" class=\"\">...</span> is not clickable at point (998, 536). Other element would receive the click: <div class=\"_3ev9-\">...</div>\n  (Session info: chrome=99.0.4844.84)\nStacktrace:\nBacktrace:\n\tOrdinal0 [0x00649943+2595139]\n\tOrdinal0 [0x005DC9F1+2148849]\n\tOrdinal0 [0x004D4528+1066280]\n\tOrdinal0 [0x00507621+1275425]\n\tOrdinal0 [0x00505657+1267287]\n\tOrdinal0 [0x0050333B+1258299]\n\tOrdinal0 [0x0050207D+1253501]\n\tOrdinal0 [0x004F7AB3+1211059]\n\tOrdinal0 [0x0051B9EC+1358316]\n\tOrdinal0 [0x004F7474+1209460]\n\tOrdinal0 [0x0051BC04+1358852]\n\tOrdinal0 [0x0052BAF2+1424114]\n\tOrdinal0 [0x0051B806+1357830]\n\tOrdinal0 [0x004F6086+1204358]\n\tOrdinal0 [0x004F6F96+1208214]\n\tGetHandleVerifier [0x007EB232+1658114]\n\tGetHandleVerifier [0x008A312C+2411516]\n\tGetHandleVerifier [0x006DF261+560433]\n\tGetHandleVerifier [0x006DE366+556598]\n\tOrdinal0 [0x005E286B+2173035]\n\tOrdinal0 [0x005E75F8+2192888]\n\tOrdinal0 [0x005E76E5+2193125]\n\tOrdinal0 [0x005F11FC+2232828]\n\tBaseThreadInitThunk [0x76AF6739+25]\n\tRtlGetFullPathName_UEx [0x77C38ACF+1215]\n\tRtlGetFullPathName_UEx [0x77C38A9D+1165]\n"
     ]
    }
   ],
   "source": [
    "chrome_options = Options()\n",
    "chrome_options.add_argument(\"--user-data-dir-Session\")\n",
    "chrome_options.add_argument(\"--profile-directory=Default\")\n",
    "PATH = r\"C:\\chromedriver_win32\\chromedriver.exe\"\n",
    "\n",
    "driver = webdriver.Chrome(PATH, options=chrome_options)\n",
    "prepare_msg([{ \"Name\": \"Nguh Prince\", \"Phone number\": \"653540703\" }])"
   ]
  },
  {
   "cell_type": "code",
   "execution_count": null,
   "metadata": {},
   "outputs": [],
   "source": [
    "import pandas as pd\n",
    "\n",
    "registered_players = pd.read_excel(\"registered players.xlsx\")\n",
    "paying_players = pd.read_excel(\"paying players.xlsx\")\n",
    "\n",
    "registered_players['Phone number'] = registered_players['Phone number'].astype(str)\n",
    "paying_players['Phone number'] = paying_players['Phone number'].astype(str)\n",
    "\n",
    "intersection = pd.merge(registered_players, paying_players, how='inner', on=[ 'Phone number' ])\n",
    "\n",
    "messaged_players = []\n",
    "\n",
    "for (index, item) in registered_players.iterrows():\n",
    "    "
   ]
  }
 ],
 "metadata": {
  "interpreter": {
   "hash": "6a741106374af66907e454d5eb9f7220e458921b2d22e15106cc427032c4925a"
  },
  "kernelspec": {
   "display_name": "Python 3.10.1 64-bit",
   "language": "python",
   "name": "python3"
  },
  "language_info": {
   "codemirror_mode": {
    "name": "ipython",
    "version": 3
   },
   "file_extension": ".py",
   "mimetype": "text/x-python",
   "name": "python",
   "nbconvert_exporter": "python",
   "pygments_lexer": "ipython3",
   "version": "3.10.1"
  },
  "orig_nbformat": 4
 },
 "nbformat": 4,
 "nbformat_minor": 2
}
